{
  "cells": [
    {
      "cell_type": "markdown",
      "metadata": {
        "id": "Jf5Qqv3WH65d"
      },
      "source": [
        "# **InvokeAI - Barren Wardo**\n",
        "> Note: Probably will only work on Paid Colab.\n",
        "\n",
        "### How to start?\n",
        "1.   Run Setup Cell\n",
        "2.   Run Launcher\n",
        "\n",
        "Enjoy! ❤️\n",
        "\n",
        "---"
      ]
    },
    {
      "cell_type": "markdown",
      "metadata": {
        "id": "2RAn3k9GIEDp"
      },
      "source": [
        "## **Setup**\n",
        "> Note :\n",
        "> 1. When prompted, click \"Restart\".\n",
        "> 2. Remove # in the 2nd last line to use beta version of InvokeAI."
      ]
    },
    {
      "cell_type": "code",
      "execution_count": null,
      "metadata": {
        "id": "AooWt85nHkk9"
      },
      "outputs": [],
      "source": [
        "!mkdir /teamspace/studios/this_studio/invokeai\n",
        "!mkdir -p /teamspace/studios/this_studio/models/sdxl\n",
        "\n",
        "!sudo apt update && apt install python3.10-venv\n",
        "!python -m venv .venv --prompt InvokeAI\n",
        "!source .venv/bin/activate\n",
        "\n",
        "!sudo apt install -y libglib2.0-0 libgl1-mesa-glx\n",
        "!sudo apt install -y aria2\n",
        "#!aria2c --console-log-level=error -c -x 16 -s 16 -k 1M \"https://civitai.com/api/download/models/1047139?type=Model&format=SafeTensor&size=pruned&fp=fp16&token=a2fab2bb78fa416e631f84f42595e62e\" -d /teamspace/studios/this_studio/models/sdxl -o prefectPonyXL_v40.safetensors\n",
        "#!aria2c --console-log-level=error -c -x 16 -s 16 -k 1M \"https://civitai.com/api/download/models/1111838?type=Model&format=SafeTensor&size=pruned&fp=fp16&token=a2fab2bb78fa416e631f84f42595e62e\" -d /teamspace/studios/this_studio/models/sdxl -o prefectiousXLNSFW_v10.safetensors\n",
        "#!aria2c --console-log-level=error -c -x 16 -s 16 -k 1M \"https://civitai.com/api/download/models/712448?type=Model&format=SafeTensor&size=pruned&fp=fp16&token=a2fab2bb78fa416e631f84f42595e62e\" -d /teamspace/studios/this_studio/models/sdxl -o realDream_15SD15.safetensors\n",
        "#!aria2c --console-log-level=error -c -x 16 -s 16 -k 1M \"https://civitai.com/api/download/models/1177183?type=Model&format=SafeTensor&size=pruned&fp=fp16&token=a2fab2bb78fa416e631f84f42595e62e\" -d /teamspace/studios/this_studio/models/sdxl -o cyberrealisticPony_v7.safetensors\n",
        "!aria2c --console-log-level=error -c -x 16 -s 16 -k 1M \"https://civitai.com/api/download/models/1761560?type=Model&format=SafeTensor&size=pruned&fp=fp16&token=a2fab2bb78fa416e631f84f42595e62e\" -d /teamspace/studios/this_studio/models/sdxl -o waiNSFWIllustrious_v140.safetensors\n",
        "!aria2c --console-log-level=error -c -x 16 -s 16 -k 1M \"https://civitai.com/api/download/models/1711508?type=Model&format=SafeTensor&size=pruned&fp=fp16&token=a2fab2bb78fa416e631f84f42595e62e\" -d /teamspace/studios/this_studio/models/sdxl -o cyberrealisticPony_v11.safetensors\n",
        "!sudo apt install -y build-essential\n",
        "!sudo apt install -y python3-opencv libopencv-dev\n",
        "\n",
        "!pip install \"InvokeAI[xformers]\" --use-pep517 --extra-index-url https://download.pytorch.org/whl/cu121 #--pre\n",
        "!pip install -U fastapi fastapi-events opentelemetry-api opentelemetry-sdk\n",
        "!npm install -g localtunnel\n",
        "\n",
        "!wget https://github.com/cloudflare/cloudflared/releases/latest/download/cloudflared-linux-amd64.deb\n",
        "!dpkg -i cloudflared-linux-amd64.deb"
      ]
    },
    {
      "cell_type": "markdown",
      "metadata": {
        "id": "ILOHYso_IX1h"
      },
      "source": [
        "## **Launch InvokeAI**"
      ]
    },
    {
      "cell_type": "markdown",
      "metadata": {
        "id": "GsW7TxOoUmwH"
      },
      "source": [
        "### **LocalTunnel**\n",
        "> Note : Copy the password IP then go to the mentioned url & paste it there."
      ]
    },
    {
      "cell_type": "code",
      "execution_count": null,
      "metadata": {
        "id": "vD9neRmLH1kU"
      },
      "outputs": [],
      "source": [
        "import subprocess\n",
        "import threading\n",
        "import time\n",
        "import socket\n",
        "import urllib.request\n",
        "\n",
        "def iframe_thread(port):\n",
        "    while True:\n",
        "        time.sleep(0.5)\n",
        "        sock = socket.socket(socket.AF_INET, socket.SOCK_STREAM)\n",
        "        result = sock.connect_ex(('127.0.0.1', port))\n",
        "        if result == 0:\n",
        "            sock.close()\n",
        "            break\n",
        "        sock.close()\n",
        "\n",
        "    print(\"\\nInvokeAI finished loading, trying to launch localtunnel (if it gets stuck here, localtunnel may have issues)\\n\")\n",
        "    print(\"The password/endpoint IP for localtunnel is:\", urllib.request.urlopen('https://ipv4.icanhazip.com').read().decode('utf8').strip(\"\\n\"))\n",
        "\n",
        "    p = subprocess.Popen([\"lt\", \"--port\", str(port)], stdout=subprocess.PIPE)\n",
        "    for line in p.stdout:\n",
        "        print(line.decode(), end='')\n",
        "\n",
        "threading.Thread(target=iframe_thread, args=(9090,), daemon=True).start()\n",
        "\n",
        "!invokeai-web --root /teamspace/studios/this_studio/invokeai"
      ]
    },
    {
      "cell_type": "markdown",
      "metadata": {
        "id": "wopcY3PfU_ms"
      },
      "source": [
        "### **Cloudflare**"
      ]
    },
    {
      "cell_type": "code",
      "execution_count": null,
      "metadata": {
        "id": "ZUYWj8yDUaTg"
      },
      "outputs": [],
      "source": [
        "import subprocess\n",
        "import threading\n",
        "import time\n",
        "import socket\n",
        "import urllib.request\n",
        "\n",
        "def iframe_thread(port):\n",
        "  while True:\n",
        "      time.sleep(0.5)\n",
        "      sock = socket.socket(socket.AF_INET, socket.SOCK_STREAM)\n",
        "      result = sock.connect_ex(('127.0.0.1', port))\n",
        "      if result == 0:\n",
        "        break\n",
        "      sock.close()\n",
        "  print(\"\\nInvokeAI finished loading, trying to launch cloudflared (if it gets stuck here cloudflared is having issues)\\n\")\n",
        "\n",
        "  p = subprocess.Popen([\"cloudflared\", \"tunnel\", \"--url\", \"http://127.0.0.1:{}\".format(port)], stdout=subprocess.PIPE, stderr=subprocess.PIPE)\n",
        "  for line in p.stderr:\n",
        "    l = line.decode()\n",
        "    if \"trycloudflare.com \" in l:\n",
        "      print(\"This is the URL to access InvokeAI:\", l[l.find(\"http\"):], end='')\n",
        "\n",
        "threading.Thread(target=iframe_thread, daemon=True, args=(9090,)).start()\n",
        "\n",
        "!invokeai-web --root /teamspace/studios/this_studio/invokeai"
      ]
    },
    {
      "cell_type": "code",
      "execution_count": null,
      "metadata": {
        "id": "JYdKP8BJgEaC"
      },
      "outputs": [],
      "source": [
        "exit()"
      ]
    },
    {
      "cell_type": "code",
      "execution_count": null,
      "metadata": {
        "id": "RYTRz2rg1scd"
      },
      "outputs": [],
      "source": [
        "!aria2c --console-log-level=error -c -x 16 -s 16 -k 1M \"https://civitai.com/api/download/models/1478064?type=Model&format=SafeTensor&size=pruned&fp=fp16&token=a2fab2bb78fa416e631f84f42595e62e\" -d /teamspace/studios/this_studio/models/sdxl -o cyberrealisticPony_v85.safetensors"
      ]
    }
  ],
  "metadata": {
    "accelerator": "GPU",
    "colab": {
      "cell_execution_strategy": "setup",
      "gpuType": "T4",
      "private_outputs": true,
      "provenance": []
    },
    "kernelspec": {
      "display_name": "Python 3",
      "name": "python3"
    },
    "language_info": {
      "name": "python"
    }
  },
  "nbformat": 4,
  "nbformat_minor": 0
}
